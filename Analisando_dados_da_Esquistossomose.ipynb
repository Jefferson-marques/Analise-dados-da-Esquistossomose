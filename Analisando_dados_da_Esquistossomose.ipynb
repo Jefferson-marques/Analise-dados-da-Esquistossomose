{
  "nbformat": 4,
  "nbformat_minor": 0,
  "metadata": {
    "colab": {
      "name": "Analisando dados esquistossomose.ipynb",
      "provenance": [],
      "collapsed_sections": [],
      "authorship_tag": "ABX9TyPGd8nbyFAjHm88PcKBlwuf",
      "include_colab_link": true
    },
    "kernelspec": {
      "name": "python3",
      "display_name": "Python 3"
    }
  },
  "cells": [
    {
      "cell_type": "markdown",
      "metadata": {
        "id": "view-in-github",
        "colab_type": "text"
      },
      "source": [
        "<a href=\"https://colab.research.google.com/github/Jefferson-marques/Analise-dados-da-Esquistossomose/blob/master/Analisando_dados_da_Esquistossomose.ipynb\" target=\"_parent\"><img src=\"https://colab.research.google.com/assets/colab-badge.svg\" alt=\"Open In Colab\"/></a>"
      ]
    },
    {
      "cell_type": "markdown",
      "metadata": {
        "id": "NXOTrYNCAJVq",
        "colab_type": "text"
      },
      "source": [
        "# **Análise dos Dados do SISPCE(Sistema de Informação do Programa de Vigilância e Controle da Esquistossomose) no ano de 2015**.\n",
        "\n",
        "A esquistossomose, também conhecida como xistose, barriga d’água ou bilharzia, é uma helmintose altamente prevalente entre as populações mais pobres, causada pela infecção de vermes trematódeos do gênero Schistosoma. \n",
        "\n",
        "\n",
        "\n",
        "\n",
        "A infecção por Schistosoma mansoni é uma doença parasitaria relacionada a pobreza,sendo à segunda doença tropical negligenciada (DTN) mais importante no mundo após a malária As doenças negligenciadas prevalecem em países subdesenvolvidos e favorecem a manutenção da desigualdade social, representando um importante problema de Saúde Pública. \n",
        "\n",
        "\n",
        "\n",
        "Atualmente, a esquistossomose é encontrada em 72 países em todos os continentes e é uma doença endêmica em, pelo menos, 52 deles. É considerada a\n",
        "segunda doença parasitária com maior prevalência e a terceira com maiores impactos socioeconômicos e de saúde pública.\n",
        "\n",
        "\n",
        "Em 2016, cerca de 206,5 milhões de pessoas precisaram de tratamento preventivo, dos quais mais de 88 milhões receberam tratamento (WHO, 2017). Dados recentes disponibilizados pelo Ministério da Saúde (2017) informam que, atualmente, o número de pessoas com chances de vir a contrair a doença no Brasil é de 1,5 milhões. Além disso, possui uma estimativa de afetar cerca de 207 milhões de indivíduos. Porém, uma estimativa feita com base no mais recente inquérito nacional de prevalência no país indica 1,5 milhão.Contabilizam-se, ainda,cerca de 280.000 óbitos por ano, devido ao parasitismo e suas complicações. \n",
        "\n",
        "A esquistossomose afeta particularmente as populações agrícolas e de pesca. Estas populações, além de estarem mais vulneráveis ao parasito, estão expostas a precárias condições de saneamento básico e apresentam hábitos que aumentam o risco de infecção e cronicidade, tais como o uso da água infestada para tarefas domésticas e para o lazer de crianças, além de uma higiene precária, reforçados por uma baixa disponibilidade e procura por serviços médicos para diagnóstico e tratamento.\n",
        "\n"
      ]
    },
    {
      "cell_type": "markdown",
      "metadata": {
        "id": "FtcSn2I6EOwY",
        "colab_type": "text"
      },
      "source": [
        "## Obtenção dos Dados"
      ]
    },
    {
      "cell_type": "code",
      "metadata": {
        "id": "4iiP92neraoq",
        "colab_type": "code",
        "colab": {}
      },
      "source": [
        "# importar os pacotes necessarios \n",
        "import pandas as pd\n",
        "import matplotlib.pyplot as plt\n",
        "import seaborn as sns \n",
        "\n",
        "%matplotlib inline"
      ],
      "execution_count": 0,
      "outputs": []
    },
    {
      "cell_type": "markdown",
      "metadata": {
        "id": "Nh2obcey4uyy",
        "colab_type": "text"
      },
      "source": [
        "# **1 - Os dados foram baixados no site do SISPCE DATASUS e reformulados para melhor entendimento.**\n",
        "\n",
        "* Obs: Os dados, na sua grande maioria, estarão jogados ou até mesmo organizados, mas de uma maneira que não funciona para o Python, então sempre procurar ler o que está nos dados, retirar o que não for necessario e deixar o mais organizado possível.\n"
      ]
    },
    {
      "cell_type": "markdown",
      "metadata": {
        "id": "UycrVNTd6mHz",
        "colab_type": "text"
      },
      "source": [
        "# **2 - Análise dos Dados**\n",
        "* Esta etapa tem por objetivo criar uma consciência situacional inicial e permitir um entendimento de como os dados estão estruturados.\n",
        "\n",
        "* Como dito no começo do artigo, os dados foram retirados no DATASUS que só existia até 2015. Então os dados retirados foram dos municipios do Ceará que disponibilizaram seus dados sobre a Esquistossomose no periodo de 2015."
      ]
    },
    {
      "cell_type": "markdown",
      "metadata": {
        "id": "LWJNLyHT7Lj8",
        "colab_type": "text"
      },
      "source": [
        "**Dicionário das variáveis**\n",
        "\n",
        "* municipio - nome da localidade que foi avaliada\n",
        "* população trabalhada - número de pessoas que participaram da pesquisa\n",
        "* exames- quantidade de exames realizados\n",
        "* positivos - pessoas que tiveram seus exames positivados\n",
        "* tratados - pessoas que foram tratadas para a doença em questão\n",
        "\n",
        "\n",
        "Antes de iniciar qualquer análise, vamos verificar a cara do nosso *dataset*, analisando as 5 primeiras entradas."
      ]
    },
    {
      "cell_type": "code",
      "metadata": {
        "id": "JVefYZgJdwX2",
        "colab_type": "code",
        "outputId": "30f6a236-dac3-4517-c84c-7f79d5a86124",
        "colab": {
          "base_uri": "https://localhost:8080/",
          "height": 607
        }
      },
      "source": [
        "# importar arquivo SISPCE\n",
        "df = pd.read_csv(\"Dados.csv\", encoding = \"ISO-8859-1\", sep=\";\")\n",
        "\n",
        "# mostrar as 5 primeiras entradas\n",
        "df.head(19)"
      ],
      "execution_count": 0,
      "outputs": [
        {
          "output_type": "execute_result",
          "data": {
            "text/html": [
              "<div>\n",
              "<style scoped>\n",
              "    .dataframe tbody tr th:only-of-type {\n",
              "        vertical-align: middle;\n",
              "    }\n",
              "\n",
              "    .dataframe tbody tr th {\n",
              "        vertical-align: top;\n",
              "    }\n",
              "\n",
              "    .dataframe thead th {\n",
              "        text-align: right;\n",
              "    }\n",
              "</style>\n",
              "<table border=\"1\" class=\"dataframe\">\n",
              "  <thead>\n",
              "    <tr style=\"text-align: right;\">\n",
              "      <th></th>\n",
              "      <th>Municipio</th>\n",
              "      <th>Populacao_trabalhada</th>\n",
              "      <th>Exames</th>\n",
              "      <th>Positivos</th>\n",
              "      <th>Tratados</th>\n",
              "    </tr>\n",
              "  </thead>\n",
              "  <tbody>\n",
              "    <tr>\n",
              "      <th>0</th>\n",
              "      <td>230090 Apuiares</td>\n",
              "      <td>545</td>\n",
              "      <td>264</td>\n",
              "      <td>0</td>\n",
              "      <td>0</td>\n",
              "    </tr>\n",
              "    <tr>\n",
              "      <th>1</th>\n",
              "      <td>230100 Aquiraz</td>\n",
              "      <td>321</td>\n",
              "      <td>162</td>\n",
              "      <td>1</td>\n",
              "      <td>1</td>\n",
              "    </tr>\n",
              "    <tr>\n",
              "      <th>2</th>\n",
              "      <td>230120 Aracoiaba</td>\n",
              "      <td>3235</td>\n",
              "      <td>1643</td>\n",
              "      <td>3</td>\n",
              "      <td>3</td>\n",
              "    </tr>\n",
              "    <tr>\n",
              "      <th>3</th>\n",
              "      <td>230210 Baturite</td>\n",
              "      <td>2598</td>\n",
              "      <td>1326</td>\n",
              "      <td>8</td>\n",
              "      <td>0</td>\n",
              "    </tr>\n",
              "    <tr>\n",
              "      <th>4</th>\n",
              "      <td>230250 Brejo Santo</td>\n",
              "      <td>62</td>\n",
              "      <td>60</td>\n",
              "      <td>0</td>\n",
              "      <td>0</td>\n",
              "    </tr>\n",
              "    <tr>\n",
              "      <th>5</th>\n",
              "      <td>230420 Crato</td>\n",
              "      <td>10077</td>\n",
              "      <td>5593</td>\n",
              "      <td>1</td>\n",
              "      <td>1</td>\n",
              "    </tr>\n",
              "    <tr>\n",
              "      <th>6</th>\n",
              "      <td>230670 Jaguaretama</td>\n",
              "      <td>432</td>\n",
              "      <td>251</td>\n",
              "      <td>1</td>\n",
              "      <td>1</td>\n",
              "    </tr>\n",
              "    <tr>\n",
              "      <th>7</th>\n",
              "      <td>230720 Jati</td>\n",
              "      <td>262</td>\n",
              "      <td>250</td>\n",
              "      <td>26</td>\n",
              "      <td>26</td>\n",
              "    </tr>\n",
              "    <tr>\n",
              "      <th>8</th>\n",
              "      <td>230770 Maranguape</td>\n",
              "      <td>2804</td>\n",
              "      <td>2804</td>\n",
              "      <td>63</td>\n",
              "      <td>63</td>\n",
              "    </tr>\n",
              "    <tr>\n",
              "      <th>9</th>\n",
              "      <td>230810 Mauriti</td>\n",
              "      <td>124</td>\n",
              "      <td>124</td>\n",
              "      <td>11</td>\n",
              "      <td>11</td>\n",
              "    </tr>\n",
              "    <tr>\n",
              "      <th>10</th>\n",
              "      <td>231010 Palmacia</td>\n",
              "      <td>135</td>\n",
              "      <td>135</td>\n",
              "      <td>0</td>\n",
              "      <td>0</td>\n",
              "    </tr>\n",
              "    <tr>\n",
              "      <th>11</th>\n",
              "      <td>231020 Paracuru</td>\n",
              "      <td>98</td>\n",
              "      <td>58</td>\n",
              "      <td>0</td>\n",
              "      <td>0</td>\n",
              "    </tr>\n",
              "    <tr>\n",
              "      <th>12</th>\n",
              "      <td>231025 Paraipaba</td>\n",
              "      <td>1490</td>\n",
              "      <td>623</td>\n",
              "      <td>0</td>\n",
              "      <td>0</td>\n",
              "    </tr>\n",
              "    <tr>\n",
              "      <th>13</th>\n",
              "      <td>231070 Pentecoste</td>\n",
              "      <td>4326</td>\n",
              "      <td>1399</td>\n",
              "      <td>0</td>\n",
              "      <td>0</td>\n",
              "    </tr>\n",
              "    <tr>\n",
              "      <th>14</th>\n",
              "      <td>231100 Poranga</td>\n",
              "      <td>320</td>\n",
              "      <td>139</td>\n",
              "      <td>0</td>\n",
              "      <td>0</td>\n",
              "    </tr>\n",
              "    <tr>\n",
              "      <th>15</th>\n",
              "      <td>231240 Sao GonÃ§alo do Amarante</td>\n",
              "      <td>529</td>\n",
              "      <td>224</td>\n",
              "      <td>0</td>\n",
              "      <td>0</td>\n",
              "    </tr>\n",
              "    <tr>\n",
              "      <th>16</th>\n",
              "      <td>231260 Sao Luis do Curu</td>\n",
              "      <td>233</td>\n",
              "      <td>109</td>\n",
              "      <td>0</td>\n",
              "      <td>0</td>\n",
              "    </tr>\n",
              "    <tr>\n",
              "      <th>17</th>\n",
              "      <td>231380 Uruburetama</td>\n",
              "      <td>823</td>\n",
              "      <td>563</td>\n",
              "      <td>4</td>\n",
              "      <td>4</td>\n",
              "    </tr>\n",
              "  </tbody>\n",
              "</table>\n",
              "</div>"
            ],
            "text/plain": [
              "                          Municipio  Populacao_trabalhada  ...  Positivos  Tratados\n",
              "0                   230090 Apuiares                   545  ...          0         0\n",
              "1                    230100 Aquiraz                   321  ...          1         1\n",
              "2                  230120 Aracoiaba                  3235  ...          3         3\n",
              "3                   230210 Baturite                  2598  ...          8         0\n",
              "4                230250 Brejo Santo                    62  ...          0         0\n",
              "5                      230420 Crato                 10077  ...          1         1\n",
              "6                230670 Jaguaretama                   432  ...          1         1\n",
              "7                       230720 Jati                   262  ...         26        26\n",
              "8                 230770 Maranguape                  2804  ...         63        63\n",
              "9                    230810 Mauriti                   124  ...         11        11\n",
              "10                  231010 Palmacia                   135  ...          0         0\n",
              "11                  231020 Paracuru                    98  ...          0         0\n",
              "12                 231025 Paraipaba                  1490  ...          0         0\n",
              "13                231070 Pentecoste                  4326  ...          0         0\n",
              "14                   231100 Poranga                   320  ...          0         0\n",
              "15  231240 Sao GonÃ§alo do Amarante                   529  ...          0         0\n",
              "16          231260 Sao Luis do Curu                   233  ...          0         0\n",
              "17               231380 Uruburetama                   823  ...          4         4\n",
              "\n",
              "[18 rows x 5 columns]"
            ]
          },
          "metadata": {
            "tags": []
          },
          "execution_count": 166
        }
      ]
    },
    {
      "cell_type": "code",
      "metadata": {
        "id": "lrFOfnrKg_dX",
        "colab_type": "code",
        "outputId": "60c641cb-5ab4-4493-d3b7-a80581eb6a0a",
        "colab": {
          "base_uri": "https://localhost:8080/",
          "height": 204
        }
      },
      "source": [
        "# Importa arquivos IBGE\n",
        "dg = pd.read_csv(\"IBGE 2.csv\", encoding= \"ISO-8859-1\", sep=\";\")\n",
        "# mostrar as 5 primeiras entradas\n",
        "dg.head()"
      ],
      "execution_count": 0,
      "outputs": [
        {
          "output_type": "execute_result",
          "data": {
            "text/html": [
              "<div>\n",
              "<style scoped>\n",
              "    .dataframe tbody tr th:only-of-type {\n",
              "        vertical-align: middle;\n",
              "    }\n",
              "\n",
              "    .dataframe tbody tr th {\n",
              "        vertical-align: top;\n",
              "    }\n",
              "\n",
              "    .dataframe thead th {\n",
              "        text-align: right;\n",
              "    }\n",
              "</style>\n",
              "<table border=\"1\" class=\"dataframe\">\n",
              "  <thead>\n",
              "    <tr style=\"text-align: right;\">\n",
              "      <th></th>\n",
              "      <th>Municipio</th>\n",
              "      <th>Populacao</th>\n",
              "    </tr>\n",
              "  </thead>\n",
              "  <tbody>\n",
              "    <tr>\n",
              "      <th>0</th>\n",
              "      <td>Apuiares</td>\n",
              "      <td>14600</td>\n",
              "    </tr>\n",
              "    <tr>\n",
              "      <th>1</th>\n",
              "      <td>Aquiraz</td>\n",
              "      <td>80271</td>\n",
              "    </tr>\n",
              "    <tr>\n",
              "      <th>2</th>\n",
              "      <td>Aracoiaba</td>\n",
              "      <td>26469</td>\n",
              "    </tr>\n",
              "    <tr>\n",
              "      <th>3</th>\n",
              "      <td>Baturite</td>\n",
              "      <td>35750</td>\n",
              "    </tr>\n",
              "    <tr>\n",
              "      <th>4</th>\n",
              "      <td>Brejo Santo</td>\n",
              "      <td>49477</td>\n",
              "    </tr>\n",
              "  </tbody>\n",
              "</table>\n",
              "</div>"
            ],
            "text/plain": [
              "     Municipio  Populacao\n",
              "0     Apuiares      14600\n",
              "1      Aquiraz      80271\n",
              "2    Aracoiaba      26469\n",
              "3     Baturite      35750\n",
              "4  Brejo Santo      49477"
            ]
          },
          "metadata": {
            "tags": []
          },
          "execution_count": 170
        }
      ]
    },
    {
      "cell_type": "markdown",
      "metadata": {
        "id": "2Js96K4xFbLB",
        "colab_type": "text"
      },
      "source": [
        "### **Q1. Quantos atributos (variáveis) e quantas entradas o nosso conjunto de dados possui? Quais os tipos das variáveis?**"
      ]
    },
    {
      "cell_type": "markdown",
      "metadata": {
        "id": "UwA-6uvcGYhJ",
        "colab_type": "text"
      },
      "source": [
        "Vamos prosseguir e identificar a quantidade de entradas que nosso conjunto de dados possui e ver os tipos de cada coluna."
      ]
    },
    {
      "cell_type": "code",
      "metadata": {
        "id": "H3Mtn7wh3ted",
        "colab_type": "code",
        "outputId": "c273312a-ec54-4af3-94a3-16bdb4553418",
        "colab": {
          "base_uri": "https://localhost:8080/",
          "height": 153
        }
      },
      "source": [
        "# identificar o volume de dados do DataFrame\n",
        "print(\"Variáveis:\\t {}\".format(df.shape[0]))\n",
        "print(\"Entrada:\\t {}\".format(df.shape[1]))\n",
        "\n",
        "# verificar as 5 primeiras entradas no dataset\n",
        "display(df.dtypes)"
      ],
      "execution_count": 0,
      "outputs": [
        {
          "output_type": "stream",
          "text": [
            "Variáveis:\t 18\n",
            "Entrada:\t 5\n"
          ],
          "name": "stdout"
        },
        {
          "output_type": "display_data",
          "data": {
            "text/plain": [
              "Municipio               object\n",
              "Populacao_trabalhada     int64\n",
              "Exames                   int64\n",
              "Positivos                int64\n",
              "Tratados                 int64\n",
              "dtype: object"
            ]
          },
          "metadata": {
            "tags": []
          }
        }
      ]
    },
    {
      "cell_type": "markdown",
      "metadata": {
        "id": "kpPt2ZzIG42J",
        "colab_type": "text"
      },
      "source": [
        "### **Q2. Qual a porcentagem de valores ausentes no *dataset*?**"
      ]
    },
    {
      "cell_type": "markdown",
      "metadata": {
        "id": "tsZ_4OosG8M0",
        "colab_type": "text"
      },
      "source": [
        "A qualidade de um dataset está diretamente relacionada à quantidade de valores ausentes. É importante entender logo no início se esses valores nulos são significativos comparados ao total de entradas.\n",
        "\n",
        "* Como pode ser visto todos os valores estão presentes"
      ]
    },
    {
      "cell_type": "code",
      "metadata": {
        "id": "TBH4x-uh4Qgj",
        "colab_type": "code",
        "outputId": "0fbfaac9-bba1-4afe-f222-583890f7941d",
        "colab": {
          "base_uri": "https://localhost:8080/",
          "height": 119
        }
      },
      "source": [
        "# ordenar em ordem decrescente as variáveis por seus valores ausentes\n",
        "(df.isnull().sum() / df.shape[0]).sort_values(ascending=False)"
      ],
      "execution_count": 0,
      "outputs": [
        {
          "output_type": "execute_result",
          "data": {
            "text/plain": [
              "Tratados                0.0\n",
              "Positivos               0.0\n",
              "Exames                  0.0\n",
              "Populacao_trabalhada    0.0\n",
              "Municipio               0.0\n",
              "dtype: float64"
            ]
          },
          "metadata": {
            "tags": []
          },
          "execution_count": 51
        }
      ]
    },
    {
      "cell_type": "markdown",
      "metadata": {
        "id": "V17vh7ZqHP7D",
        "colab_type": "text"
      },
      "source": [
        "\n",
        "### **Q3. Qual o tipo de distribuição das variáveis em Histograma?** "
      ]
    },
    {
      "cell_type": "markdown",
      "metadata": {
        "id": "mZHSdNINHicT",
        "colab_type": "text"
      },
      "source": [
        "Para identificar a distribuição das variáveis, um histograma irá ser mostrado."
      ]
    },
    {
      "cell_type": "code",
      "metadata": {
        "id": "8YMocQn9HkU7",
        "colab_type": "code",
        "outputId": "6a4f4477-0e77-450d-8c3b-f7b3189276b0",
        "colab": {
          "base_uri": "https://localhost:8080/",
          "height": 584
        }
      },
      "source": [
        "# Gerar um histograma das variáveis númericas\n",
        "df.hist(bins=15, figsize=(10, 8))"
      ],
      "execution_count": 0,
      "outputs": [
        {
          "output_type": "execute_result",
          "data": {
            "text/plain": [
              "array([[<matplotlib.axes._subplots.AxesSubplot object at 0x7f130624e898>,\n",
              "        <matplotlib.axes._subplots.AxesSubplot object at 0x7f13068437f0>],\n",
              "       [<matplotlib.axes._subplots.AxesSubplot object at 0x7f130684bcc0>,\n",
              "        <matplotlib.axes._subplots.AxesSubplot object at 0x7f130693c5f8>]],\n",
              "      dtype=object)"
            ]
          },
          "metadata": {
            "tags": []
          },
          "execution_count": 73
        },
        {
          "output_type": "display_data",
          "data": {
            "image/png": "[encoded data removed]",
            "text/plain": [
              "<Figure size 720x576 with 4 Axes>"
            ]
          },
          "metadata": {
            "tags": []
          }
        }
      ]
    },
    {
      "cell_type": "markdown",
      "metadata": {
        "id": "xx5nax39zEm9",
        "colab_type": "text"
      },
      "source": [
        "### **Q4. Qual o tipo de distribuição das variáveis?** "
      ]
    },
    {
      "cell_type": "markdown",
      "metadata": {
        "id": "sWUQ721wZcTX",
        "colab_type": "text"
      },
      "source": [
        "###### Apenas os dados do **SISPCE**, isolados, não podem dizer muito sobre a esquistossomose, mas quando olhamos esses dados e correlacionamos com os dados do IBGE de População total de cada município pode ser visto que :\n",
        "\n",
        "* A população trabalhada nos municipios em questão não são homegenicas. Além disso, aparentemente são feitas de maneira aleatória porque em apenas dois municípios Aracoiaba(12,22%) e Petencoste(11,45%) a correlação população trabalhada e a população total do município passa a casa dos dez porcento que ainda não é um dado demostrativo da região.\n",
        "* Além disso, isso se torna mais preocupante quando olhamos os números de exames feitos apenas um município(**Maranguape**) conseguiu fazer todos os exames que foi proposto em relação a população trabalhada.\n",
        "* Quando olhamos os números de casos positivos da doença em questão podemos ver que são bem baixos, mas isso pode ser justamente devido a população trabalhada que pode ser visto que não corresponde a uma parcela significativa da população total dos municípios, além disso a quantidade de exames realizados também é um fator que pode limitar a positividade, justamente pelo seu número ser reduzido.\n",
        "* Apenas um município(**Baturité**) deixou de tratar os pacientes que positivaram nos exames, isso é perigoso justamente porque pode levar ao aumento da doença em questão.\n",
        "* Um dado importante são os de três municípios Jati, Mauriti e Brejo Santo, porque existe uma obra chamada A transposição do Rio São Francisco que, aparentemente, pode chegar ainda em 2020. Essa obra vai passar em vários locais do Nordeste e com isso pode trazer uma gama de biodiversidade alta para as regiões do Ceará, como novos caramujos, novos parasitos de veiculação hidrica e devido a isso, essas regiões em questão, deveriam ter um olhar mais cuidadoso em relação a esquistossomose para saber se, caso ocorra, um aumento dos casos da doença, se possa correlacionar com a vinda das águas.\n",
        "* Mas, como visto pelos dados abaixo as regiões em questão Jati(3,23%), Mauriti(0,25%) e Brejo Santo(0,12%) tem números baixissimos de população trabalhada quando correlaciona com a população total dos municípios e quando olhamos os números de exames esses números são bem mais baixos, isso mostra um olhar preocupante."
      ]
    },
    {
      "cell_type": "code",
      "metadata": {
        "id": "_bWSyAfJvU7H",
        "colab_type": "code",
        "outputId": "2530043c-88df-4a7e-edce-aff87a6f2a1a",
        "colab": {
          "base_uri": "https://localhost:8080/",
          "height": 357
        }
      },
      "source": [
        "# Ver municípios em relação as variáveis com os dados do SISPCE\n",
        "df.groupby(['Municipio', 'Populacao_trabalhada','Exames', 'Positivos']).Tratados.max().sort_values()[:19] "
      ],
      "execution_count": 0,
      "outputs": [
        {
          "output_type": "execute_result",
          "data": {
            "text/plain": [
              "Municipio                        Populacao_trabalhada  Exames  Positivos\n",
              "230090 Apuiares                  545                   264     0             0\n",
              "230210 Baturite                  2598                  1326    8             0\n",
              "230250 Brejo Santo               62                    60      0             0\n",
              "231240 Sao GonÃ§alo do Amarante  529                   224     0             0\n",
              "231260 Sao Luis do Curu          233                   109     0             0\n",
              "231100 Poranga                   320                   139     0             0\n",
              "231010 Palmacia                  135                   135     0             0\n",
              "231020 Paracuru                  98                    58      0             0\n",
              "231025 Paraipaba                 1490                  623     0             0\n",
              "231070 Pentecoste                4326                  1399    0             0\n",
              "230100 Aquiraz                   321                   162     1             1\n",
              "230420 Crato                     10077                 5593    1             1\n",
              "230670 Jaguaretama               432                   251     1             1\n",
              "230120 Aracoiaba                 3235                  1643    3             3\n",
              "231380 Uruburetama               823                   563     4             4\n",
              "230810 Mauriti                   124                   124     11           11\n",
              "230720 Jati                      262                   250     26           26\n",
              "230770 Maranguape                2804                  2804    63           63\n",
              "Name: Tratados, dtype: int64"
            ]
          },
          "metadata": {
            "tags": []
          },
          "execution_count": 152
        }
      ]
    },
    {
      "cell_type": "code",
      "metadata": {
        "id": "AuHKQj012VsG",
        "colab_type": "code",
        "outputId": "6ef39ac1-c30e-4bec-fa5f-2b6d26da90d1",
        "colab": {
          "base_uri": "https://localhost:8080/",
          "height": 357
        }
      },
      "source": [
        "# ver municípios em relação as variáveis com os dados do IBGE\n",
        "dg.groupby(['Municipio']).Populacao.max().sort_values(ascending=False)[:19]"
      ],
      "execution_count": 0,
      "outputs": [
        {
          "output_type": "execute_result",
          "data": {
            "text/plain": [
              "Municipio\n",
              "Crato                      132123\n",
              "Maranguape                 128978\n",
              "Aquiraz                     80271\n",
              "Brejo Santo                 49477\n",
              "Sao Goncalo do Amarante     48422\n",
              "Mauriti                     47962\n",
              "Pentecoste                  37751\n",
              "Baturite                    35750\n",
              "Paracuru                    35076\n",
              "Paraipaba                   32744\n",
              "Aracoiaba                   26469\n",
              "Uruburetama                 21850\n",
              "Jaguaretama                 18162\n",
              "Apuiares                    14600\n",
              "Palmacia                    13322\n",
              "Sao Luis do Curu            13000\n",
              "Poranga                     12336\n",
              "Jati                         8111\n",
              "Name: Populacao, dtype: int64"
            ]
          },
          "metadata": {
            "tags": []
          },
          "execution_count": 169
        }
      ]
    },
    {
      "cell_type": "markdown",
      "metadata": {
        "id": "PAsrwNHZt7Ff",
        "colab_type": "text"
      },
      "source": [
        "### **Q5. Qual a correlação existente entre as variáveis**"
      ]
    },
    {
      "cell_type": "code",
      "metadata": {
        "id": "D5Cihe32uIMX",
        "colab_type": "code",
        "outputId": "dff13e7f-b7f4-4685-edab-f345af461d62",
        "colab": {
          "base_uri": "https://localhost:8080/",
          "height": 173
        }
      },
      "source": [
        "# criar uma matriz de correlação \n",
        "corr = df[['Populacao_trabalhada', 'Exames', 'Positivos', 'Tratados']].corr()\n",
        "display(corr)\n",
        "\n",
        "# mostrar a matriz de correlação"
      ],
      "execution_count": 0,
      "outputs": [
        {
          "output_type": "display_data",
          "data": {
            "text/html": [
              "<div>\n",
              "<style scoped>\n",
              "    .dataframe tbody tr th:only-of-type {\n",
              "        vertical-align: middle;\n",
              "    }\n",
              "\n",
              "    .dataframe tbody tr th {\n",
              "        vertical-align: top;\n",
              "    }\n",
              "\n",
              "    .dataframe thead th {\n",
              "        text-align: right;\n",
              "    }\n",
              "</style>\n",
              "<table border=\"1\" class=\"dataframe\">\n",
              "  <thead>\n",
              "    <tr style=\"text-align: right;\">\n",
              "      <th></th>\n",
              "      <th>Populacao_trabalhada</th>\n",
              "      <th>Exames</th>\n",
              "      <th>Positivos</th>\n",
              "      <th>Tratados</th>\n",
              "    </tr>\n",
              "  </thead>\n",
              "  <tbody>\n",
              "    <tr>\n",
              "      <th>Populacao_trabalhada</th>\n",
              "      <td>1.000000</td>\n",
              "      <td>0.958903</td>\n",
              "      <td>0.066071</td>\n",
              "      <td>0.053345</td>\n",
              "    </tr>\n",
              "    <tr>\n",
              "      <th>Exames</th>\n",
              "      <td>0.958903</td>\n",
              "      <td>1.000000</td>\n",
              "      <td>0.287158</td>\n",
              "      <td>0.276024</td>\n",
              "    </tr>\n",
              "    <tr>\n",
              "      <th>Positivos</th>\n",
              "      <td>0.066071</td>\n",
              "      <td>0.287158</td>\n",
              "      <td>1.000000</td>\n",
              "      <td>0.992645</td>\n",
              "    </tr>\n",
              "    <tr>\n",
              "      <th>Tratados</th>\n",
              "      <td>0.053345</td>\n",
              "      <td>0.276024</td>\n",
              "      <td>0.992645</td>\n",
              "      <td>1.000000</td>\n",
              "    </tr>\n",
              "  </tbody>\n",
              "</table>\n",
              "</div>"
            ],
            "text/plain": [
              "                      Populacao_trabalhada    Exames  Positivos  Tratados\n",
              "Populacao_trabalhada              1.000000  0.958903   0.066071  0.053345\n",
              "Exames                            0.958903  1.000000   0.287158  0.276024\n",
              "Positivos                         0.066071  0.287158   1.000000  0.992645\n",
              "Tratados                          0.053345  0.276024   0.992645  1.000000"
            ]
          },
          "metadata": {
            "tags": []
          }
        }
      ]
    },
    {
      "cell_type": "markdown",
      "metadata": {
        "id": "GS1_ktXfwDVp",
        "colab_type": "text"
      },
      "source": [
        "Como visto acima existe algumas correlações, para uma melhor visualização um Heatmap será gerado."
      ]
    },
    {
      "cell_type": "code",
      "metadata": {
        "id": "qjmSfJUtuuvr",
        "colab_type": "code",
        "outputId": "8e10bfcb-b0b2-4e74-eb7a-6c4de96b7f9a",
        "colab": {
          "base_uri": "https://localhost:8080/",
          "height": 370
        }
      },
      "source": [
        "# Geração de um heatmap a partir das correlações\n",
        "sns.heatmap(corr, cmap='RdBu', fmt='.2f', square=True, linecolor='white', annot=True) ;"
      ],
      "execution_count": 0,
      "outputs": [
        {
          "output_type": "display_data",
          "data": {
            "image/png": "[encoded data removed]",
            "text/plain": [
              "<Figure size 432x288 with 2 Axes>"
            ]
          },
          "metadata": {
            "tags": []
          }
        }
      ]
    },
    {
      "cell_type": "markdown",
      "metadata": {
        "id": "TxFLK0L_xf_N",
        "colab_type": "text"
      },
      "source": [
        "* Existem algumas correlações(quanto mais proximo de um, maior a correlação), mas tem que ser lembrado que os números são a soma de todos os valores e não a relação de cada munícipio com suas variáveis em questão. Ex- quando olhamos o número de positivos em relação ao número de tratados podemos ver uma correlação significante, só não é 100% porque o município de Baturité, não tratou seus positivos, como mostrado acima.\n",
        "* Além disso, existe também uma correlação entre a População_trabalhada e o número de Exames, justamente se pegamos apenas os números do SISPCE, mas como já comentado acima, esses números podem enganar quando comparados com a quantidade total da população dos município, mostrando que os números estão longe de serem representativos."
      ]
    },
    {
      "cell_type": "markdown",
      "metadata": {
        "id": "bRhgbaDIzxJn",
        "colab_type": "text"
      },
      "source": [
        "## Conclusões\n",
        "\n",
        "* Foi feito uma análise superficial dos dados do SISPCE e mesmo assim foram encontrados dados interessantes e quando correlacinado com os dados do IBGE se pode ter conclusões mais expressivas.\n",
        "* Além disso, é importante reiterar a importancia dos municípios Jati, Mauriti e Brejo Santo em relação ao possível aumento da doença em questão nessas regiões em específico."
      ]
    }
  ]
}